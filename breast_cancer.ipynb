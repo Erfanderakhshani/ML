{
  "nbformat": 4,
  "nbformat_minor": 0,
  "metadata": {
    "colab": {
      "provenance": []
    },
    "kernelspec": {
      "name": "python3",
      "display_name": "Python 3"
    },
    "language_info": {
      "name": "python"
    }
  },
  "cells": [
    {
      "cell_type": "code",
      "source": [
        "from sklearn.datasets import load_breast_cancer\n",
        "from sklearn.model_selection import train_test_split\n",
        "from sklearn.preprocessing import MinMaxScaler\n",
        "from sklearn.neural_network import MLPClassifier\n",
        "from sklearn.metrics import accuracy_score,recall_score,precision_score"
      ],
      "metadata": {
        "id": "8Q_26OdFjjrz"
      },
      "execution_count": 22,
      "outputs": []
    },
    {
      "cell_type": "code",
      "source": [
        "bc = load_breast_cancer()\n",
        "\n"
      ],
      "metadata": {
        "id": "FqGFmN8Fj0WM"
      },
      "execution_count": 23,
      "outputs": []
    },
    {
      "cell_type": "markdown",
      "source": [
        "### **Preprocessing**"
      ],
      "metadata": {
        "id": "YNZ9LVn8nvLU"
      }
    },
    {
      "cell_type": "code",
      "source": [
        "x_train, x_test, y_train, y_test = train_test_split(bc.data ,bc.target , test_size= 0.2 , random_state=42)\n",
        "\n",
        "scaler = MinMaxScaler(feature_range=(0,1))\n",
        "x_train = scaler.fit_transform(x_train)\n",
        "x_test = scaler.transform(x_test)\n",
        "\n"
      ],
      "metadata": {
        "id": "AuBjdanmPL0Q"
      },
      "execution_count": 24,
      "outputs": []
    },
    {
      "cell_type": "code",
      "source": [
        "ann = MLPClassifier(hidden_layer_sizes=100)\n",
        "ann.fit(x_train,y_train)\n",
        "y_pred_test = ann.predict(x_test)\n",
        "\n",
        "\n",
        "\n",
        "acc_test = accuracy_score(y_test, y_pred_test)\n",
        "p = precision_score(y_test, y_pred_test)\n",
        "r = recall_score(y_test, y_pred_test)\n",
        "\n",
        "print(f'Accuracy is {acc_test} and Precision is {p} and Recall is {r}')"
      ],
      "metadata": {
        "colab": {
          "base_uri": "https://localhost:8080/"
        },
        "id": "THUBCk8dbM8k",
        "outputId": "bdadf22e-ec29-480d-b365-c56cde4a51b1"
      },
      "execution_count": 26,
      "outputs": [
        {
          "output_type": "stream",
          "name": "stdout",
          "text": [
            "Accuracy is 0.9824561403508771 and Precision is 0.9859154929577465 and Recall is 0.9859154929577465\n"
          ]
        },
        {
          "output_type": "stream",
          "name": "stderr",
          "text": [
            "/usr/local/lib/python3.10/dist-packages/sklearn/neural_network/_multilayer_perceptron.py:686: ConvergenceWarning: Stochastic Optimizer: Maximum iterations (200) reached and the optimization hasn't converged yet.\n",
            "  warnings.warn(\n"
          ]
        }
      ]
    }
  ]
}